{
 "cells": [
  {
   "cell_type": "markdown",
   "id": "b6c598ab",
   "metadata": {},
   "source": [
    "# Project Part 2\n",
    "\n",
    "[![Kaggle](https://kaggle.com/static/images/open-in-kaggle.svg)](https://kaggle.com/kernels/welcome?src=https://github.com/sgeinitz/CS39AA-project/blob/main/project_part1.ipynb)\n",
    "\n",
    "[![Open In Colab](https://colab.research.google.com/assets/colab-badge.svg)](https://colab.research.google.com/github/sgeinitz/CS39AA-project/blob/main/project_part1.ipynb)"
   ]
  },
  {
   "cell_type": "code",
   "execution_count": null,
   "id": "869b4116",
   "metadata": {},
   "outputs": [],
   "source": [
    "import pandas as pd\n",
    "import matplotlib.pyplot as plt\n",
    "\n",
    "url = 'https://raw.githubusercontent.com/PGLavergne/NYTCrosswordPredicter/main/nytcrosswords.csv'\n",
    "dataSet = pd.read_csv(url, encoding='latin-1')\n",
    "dataSet_partial = pd.read_csv(url, encoding='latin-1', nrows=10000)\n",
    "dataSet"
   ]
  },
  {
   "cell_type": "code",
   "execution_count": null,
   "id": "bde452fb",
   "metadata": {},
   "outputs": [],
   "source": [
    "#this code calculates the clue/answer lengths in terms of words/chars, respectively. \n",
    "dataSet_partial[\"Clue_Length_Words\"] = dataSet_partial['Clue'].apply(lambda x: len(x.split()))\n",
    "dataSet_partial['Word_Length_Chars'] = dataSet_partial['Word'].apply(len)\n",
    "\n",
    "plt.figure(figsize=(12, 5))\n",
    "\n",
    "plt.subplot(1,2,1)\n",
    "plt.hist(dataSet_partial['Clue_Length_Words'], bins=20, color='green')\n",
    "plt.title('Hist of Clue Length (Words)')\n",
    "plt.xlable('Num of Words')\n",
    "plt.ylabel('Frequency')\n",
    "\n",
    "plt.subplot(1,2,2)\n",
    "plt.hist(dataSet_partial['Word_Length_Chars'], bins=20, color='skyblue')\n",
    "plt.title('Hist of Answer Length (char)')\n",
    "plt.xlabel(\"Num of Chars\")\n",
    "plt.ylabel('Frequency')\n",
    "\n",
    "plt.titght_layout()\n",
    "plt.show()"
   ]
  },
  {
   "cell_type": "code",
   "execution_count": null,
   "id": "b455abac",
   "metadata": {},
   "outputs": [],
   "source": [
    "dataSet = dataSet.dropna(subset=['Word_Length_Chars'])\n",
    "\n",
    "plt.figure(figsize=(14.5,6))\n",
    "plt.scatter(dataSet['Clue_Length_Words'], dataSet['Word_Length_Chars'], color='purple', alpha=0.2)\n",
    "plt.title('Clue Length v. Word Length')\n",
    "plt.xlabel('Clue Length (Words)')\n",
    "plt.ylabel('Word Length (Chars)')\n",
    "plt.grid(True)\n",
    "plt.show()"
   ]
  }
 ],
 "metadata": {
  "kernelspec": {
   "display_name": "Python 3 (ipykernel)",
   "language": "python",
   "name": "python3"
  }
 },
 "nbformat": 4,
 "nbformat_minor": 5
}
