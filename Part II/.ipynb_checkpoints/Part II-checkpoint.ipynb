{
 "cells": [
  {
   "cell_type": "markdown",
   "id": "4c1e4386",
   "metadata": {},
   "source": [
    "# Project Part 2\n",
    "\n",
    "[![Kaggle](https://kaggle.com/static/images/open-in-kaggle.svg)](https://colab.research.google.com/github/PGLavergne/NYTCrosswordPredicter/blob/main/Part%20II/Project_Part_II.ipynb)\n",
    "\n",
    "[![Open In Colab](https://colab.research.google.com/assets/colab-badge.svg)](https://colab.research.google.com/github/PGLavergne/NYTCrosswordPredicter/blob/main/Part%20II/Project_Part_II.ipynb)"
   ]
  },
  {
   "cell_type": "code",
   "execution_count": null,
   "id": "d92343bb",
   "metadata": {},
   "outputs": [],
   "source": [
    "import pandas as pd\n",
    "import matplotlib.pyplot as plt\n",
    "\n",
    "url = 'https://raw.githubusercontent.com/PGLavergne/NYTCrosswordPredicter/main/nytcrosswords.csv'\n",
    "dataSet = pd.read_csv(url, encoding='latin-1')\n",
    "dataSet_partial = pd.read_csv(url, encoding='latin-1', nrows=10000)\n",
    "dataSet_partial"
   ]
  },
  {
   "cell_type": "markdown",
   "id": "68f9bf8a",
   "metadata": {},
   "source": [
    "The code below creates histograms that represent the distribution of clue lengths in terms of words and the distribution of answer lengths in terms of characters. As you can see, most of the clue lengths are below 5 words and the length of the answer is usually less than 5 characters. "
   ]
  },
  {
   "cell_type": "code",
   "execution_count": null,
   "id": "95eb737d",
   "metadata": {},
   "outputs": [],
   "source": [
    "#this code calculates the clue/answer lengths in terms of words/chars, respectively. \n",
    "dataSet_partial[\"Clue_Length_Words\"] = dataSet_partial['Clue'].apply(lambda x: len(x.split()))\n",
    "dataSet_partial['Word_Length_Chars'] = dataSet_partial['Word'].apply(len)\n",
    "\n",
    "plt.figure(figsize=(12, 5))\n",
    "\n",
    "plt.subplot(1,2,1)\n",
    "plt.hist(dataSet_partial['Clue_Length_Words'], bins=20, color='green')\n",
    "plt.title('Hist of Clue Length (Words)')\n",
    "plt.xlable('Num of Words')\n",
    "plt.ylabel('Frequency')\n",
    "\n",
    "plt.subplot(1,2,2)\n",
    "plt.hist(dataSet_partial['Word_Length_Chars'], bins=20, color='skyblue')\n",
    "plt.title('Hist of Answer Length (char)')\n",
    "plt.xlabel(\"Num of Chars\")\n",
    "plt.ylabel('Frequency')\n",
    "\n",
    "plt.titght_layout()\n",
    "plt.show()"
   ]
  },
  {
   "cell_type": "markdown",
   "id": "7d1c667f",
   "metadata": {},
   "source": [
    "This code illustrates a scatter plot where the x-axis represents the lengths of clue in terms of words and the y-axis represents the lengths of words in terms of characters. Each point in the scatter plot corresponds to a clue/answer pair from the dataset."
   ]
  },
  {
   "cell_type": "code",
   "execution_count": null,
   "id": "6ed9d24b",
   "metadata": {},
   "outputs": [],
   "source": [
    "dataSet = dataSet.dropna(subset=['Word_Length_Chars'])\n",
    "\n",
    "plt.figure(figsize=(14.5,6))\n",
    "plt.scatter(dataSet['Clue_Length_Words'], dataSet['Word_Length_Chars'], color='purple', alpha=0.2)\n",
    "plt.title('Clue Length v. Word Length')\n",
    "plt.xlabel('Clue Length (Words)')\n",
    "plt.ylabel('Word Length (Chars)')\n",
    "plt.grid(True)\n",
    "plt.show()"
   ]
  }
 ],
 "metadata": {
  "kernelspec": {
   "display_name": "Python 3 (ipykernel)",
   "language": "python",
   "name": "python3"
  }
 },
 "nbformat": 4,
 "nbformat_minor": 5
}
