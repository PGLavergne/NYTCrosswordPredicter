{
 "cells": [
  {
   "cell_type": "markdown",
   "metadata": {},
   "source": [
    "# Project Part 1\n",
    "\n",
    "[![Kaggle](https://kaggle.com/static/images/open-in-kaggle.svg)](https://kaggle.com/kernels/welcome?src=https://github.com/sgeinitz/CS39AA-project/blob/main/project_part1.ipynb)\n",
    "\n",
    "[![Open In Colab](https://colab.research.google.com/assets/colab-badge.svg)](https://colab.research.google.com/github/sgeinitz/CS39AA-project/blob/main/project_part1.ipynb)\n",
    "\n",
    "This notebook is intended to serve as a template to complete Part 1 of the projects. Feel free to modify this notebook as needed, but be sure to have the two main parts, a) a introductory proposal section describing what it is your doing to do and where the dataset originates, and b) an exploratory analysis section that has the histograms, charts, tables, etc. that are the output from your exploratory analysis. \n",
    "\n",
    "__Note you will want to remove the text above, and in the markdown cells below, and replace it with your own text describing the dataset, task, exploratory steps, etc.__"
   ]
  },
  {
   "cell_type": "markdown",
   "metadata": {},
   "source": [
    "## 1. Introduction/Background\n",
    "\n",
    "This project uses a dataset sourced from the New York Times Crossword puzzles (https://www.kaggle.com/datasets/darinhawley/new-york-times-crossword-clues-answers-19932021/), covering clues and answers from 1993 to 2021. Each entry in the dataset includes a crossword clue, the corresponding answer word, and the date it appeared in the NYT crossword. The dataset is diverse, featuring clues on various topics and in different styles of language. The main task is a natural language processing (NLP) problem: predicting the correct answer (word) when given a crossword clue. Essentially, the project aims to teach a computer to understand the relationships between clues and their solutions. The challenge is treated as a multiclass classification problem, where the different possible words serve as the categories.\n",
    "\n",
    "The objective is to train a machine learning model (initially using a Random Forest Classifier) to make accurate predictions of crossword answers based on the given clues. The potential applications of this project include helping crossword enthusiasts, enhancing tools for automated crossword-solving, and contributing to the broader field of understanding language through NLP.\n",
    "\n",
    "For this initial model, the approach is relatively straightforward. Each word in the crossword clue is treated as a separate feature, somewhat like putting all the words in a bag. This is a simple method to start understanding the relationships between words in clues and their corresponding answers."
   ]
  },
  {
   "cell_type": "markdown",
   "metadata": {},
   "source": [
    "## 2. Exploratory Data Analysis\n",
    "\n",
    "_You will now load the dataset and carry out some exploratory data analysis steps to better understand what text data looks like. See the examples from class on 10/. The following links provide some good resources of exploratory analyses of text data with Python._\n",
    "\n",
    "\n",
    "* https://neptune.ai/blog/exploratory-data-analysis-natural-language-processing-tools\n",
    "* https://regenerativetoday.com/exploratory-data-analysis-of-text-data-including-visualization-and-sentiment-analysis/\n",
    "* https://medium.com/swlh/text-summarization-guide-exploratory-data-analysis-on-text-data-4e22ce2dd6ad  \n",
    "* https://www.kdnuggets.com/2019/05/complete-exploratory-data-analysis-visualization-text-data.html  \n"
   ]
  },
  {
   "cell_type": "code",
   "execution_count": null,
   "metadata": {},
   "outputs": [],
   "source": [
    "import chardet\n",
    "import pandas as pd\n",
    "\n",
    "# Detect encoding\n",
    "with open('/content/drive/MyDrive/nytcrosswords.csv', 'rb') as rawdata:\n",
    "    result = chardet.detect(rawdata.read(10000))  # You may need to adjust the read size\n",
    "\n",
    "# Use detected encoding to read the file\n",
    "nyt = pd.read_csv('/content/drive/MyDrive/nytcrosswords.csv', encoding=result['encoding'])\n",
    "nyt.to_csv('/content/drive/MyDrive/nytcrosswords_modified.csv', index=False)\n",
    "csv_nyt = pd.read_csv('/content/drive/MyDrive/nytcrosswords_modified.csv')\n",
    "print(csv_nyt)"
   ]
  },
  {
   "cell_type": "code",
   "execution_count": null,
   "metadata": {},
   "outputs": [],
   "source": []
  }
 ],
 "metadata": {
  "kernelspec": {
   "display_name": "Python 3 (ipykernel)",
   "language": "python",
   "name": "python3"
  },
  "language_info": {
   "codemirror_mode": {
    "name": "ipython",
    "version": 3
   },
   "file_extension": ".py",
   "mimetype": "text/x-python",
   "name": "python",
   "nbconvert_exporter": "python",
   "pygments_lexer": "ipython3",
   "version": "3.9.13"
  },
  "vscode": {
   "interpreter": {
    "hash": "bb3398f4b21c7b026dd5874af3f954bf25f1e8ff81e25d82a94abcbbaacf760b"
   }
  }
 },
 "nbformat": 4,
 "nbformat_minor": 2
}
