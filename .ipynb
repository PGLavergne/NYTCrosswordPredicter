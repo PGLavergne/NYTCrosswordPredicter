{
 "cells": [
  {
   "cell_type": "markdown",
   "metadata": {},
   "source": [
    "# Project Part 1\n",
    "\n",
    "[![Open In Colab](https://colab.research.google.com/assets/colab-badge.svg)](https://colab.research.google.com/drive/1pFr9dLJXz3ZJFHBNKIF6S15U59F8zxpO?authuser=1#scrollTo=1licbDy6m0KO)\n"
   ]
  },
  {
   "cell_type": "markdown",
   "metadata": {},
   "source": [
    "## 1. Introduction/Background\n",
    "\n",
    "This project uses a dataset sourced from the New York Times Crossword puzzles (https://www.kaggle.com/datasets/darinhawley/new-york-times-crossword-clues-answers-19932021/), covering clues and answers from 1993 to 2021. Each entry in the dataset includes a crossword clue, the corresponding answer word, and the date it appeared in the NYT crossword. The dataset is diverse, featuring clues on various topics and in different styles of language. The main task is a natural language processing (NLP) problem: predicting the correct answer (word) when given a crossword clue. Essentially, the project aims to teach a computer to understand the relationships between clues and their solutions. The challenge is treated as a multiclass classification problem, where the different possible words serve as the categories.\n",
    "\n",
    "The objective is to train a machine learning model (initially using a Random Forest Classifier) to make accurate predictions of crossword answers based on the given clues. The potential applications of this project include helping crossword enthusiasts, enhancing tools for automated crossword-solving, and contributing to the broader field of understanding language through NLP.\n",
    "\n",
    "For this initial model, the approach is relatively straightforward. Each word in the crossword clue is treated as a separate feature, somewhat like putting all the words in a bag. This is a simple method to start understanding the relationships between words in clues and their corresponding answers."
   ]
  }
 ],
 "metadata": {
  "kernelspec": {
   "display_name": "Python 3 (ipykernel)",
   "language": "python",
   "name": "python3"
  },
  "language_info": {
   "codemirror_mode": {
    "name": "ipython",
    "version": 3
   },
   "file_extension": ".py",
   "mimetype": "text/x-python",
   "name": "python",
   "nbconvert_exporter": "python",
   "pygments_lexer": "ipython3",
   "version": "3.9.13"
  },
  "vscode": {
   "interpreter": {
    "hash": "bb3398f4b21c7b026dd5874af3f954bf25f1e8ff81e25d82a94abcbbaacf760b"
   }
  }
 },
 "nbformat": 4,
 "nbformat_minor": 2
}
